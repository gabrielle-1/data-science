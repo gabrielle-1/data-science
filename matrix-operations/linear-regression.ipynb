{
 "cells": [
  {
   "cell_type": "markdown",
   "metadata": {},
   "source": [
    "Regressão Linear: É uma equação para se estimar a condicional de uma variável y, dados os valores de algumas outras variáveis x. A regressão, tem como objetivo, em geral, tratar de um valor que não se consegue estimar inicialmente."
   ]
  },
  {
   "cell_type": "markdown",
   "metadata": {},
   "source": [
    "Requirements: numpy"
   ]
  },
  {
   "cell_type": "code",
   "execution_count": 3,
   "metadata": {},
   "outputs": [],
   "source": [
    "import numpy as np"
   ]
  },
  {
   "cell_type": "markdown",
   "metadata": {},
   "source": [
    "## Matrizes Quadradas: "
   ]
  },
  {
   "cell_type": "markdown",
   "metadata": {},
   "source": [
    "#### Contexto: \n",
    "\n",
    "Suponha que você esteja procurando comprar umapartamento. Após você ter visitado 3 apartamentos, em um bairro não muito procurado, você percebeu que:\n",
    "\n",
    "- O primeiro apartamento tinha 1 quarto, 1 banheiro, 50 metros quadrados e custava R$75,000\n",
    "- O segundo apartamento tinha 2 quartos, 1 banheiro, 50 metros quadrados e custava RR125,500;\n",
    "- O terceiro apartamento tinha 2 quartos, 1 banheiro, 100 metros quadrados e custava R$126,000.\n",
    "\n",
    "Após visitar os mesmos apartamentos em um bairro muito pro-curado, você percebeu que os mesmos 3 apartamentos custavam,respectivamente R$175,000, R$225,500 e R$226,000"
   ]
  },
  {
   "cell_type": "code",
   "execution_count": 20,
   "metadata": {},
   "outputs": [],
   "source": [
    "X = np.array([\n",
    "    [1, 1, 50, 0],\n",
    "    [2, 1, 50, 0],\n",
    "    [2, 1, 100, 0],\n",
    "    [1, 1, 50, 1],\n",
    "    [2, 1, 50, 1],\n",
    "    [2, 1, 100, 1]\n",
    "])\n",
    "\n",
    "# Valores dos apartamentos\n",
    "y = np.array([\n",
    "    [75500],\n",
    "    [125500],\n",
    "    [126000],\n",
    "    [175500],\n",
    "    [225500],\n",
    "    [226000]\n",
    "])"
   ]
  },
  {
   "cell_type": "code",
   "execution_count": 17,
   "metadata": {},
   "outputs": [
    {
     "name": "stdout",
     "output_type": "stream",
     "text": [
      "[[5.0e+04]\n",
      " [2.5e+04]\n",
      " [1.0e+01]\n",
      " [1.0e+05]]\n"
     ]
    }
   ],
   "source": [
    "transposeX = X.T\n",
    "C = transposeX @ X\n",
    "C_inv = np.linalg.inv(C)\n",
    "plusX = C_inv @ transposeX\n",
    "w = plusX @ y\n",
    "print(w)"
   ]
  },
  {
   "cell_type": "markdown",
   "metadata": {},
   "source": [
    "## Matrizes NÃO Quadradas: Utilizamos o MMQ(Método dos Mínimos Quadrados) "
   ]
  },
  {
   "cell_type": "markdown",
   "metadata": {},
   "source": [
    "#### Contexto: \n",
    "\n",
    "Suponha que você esteja procurando comprar umapartamento. Após você ter visitado 3 apartamentos, percebeu que:\n",
    "\n",
    "- O primeiro apartamento tinha 4 quartos, 4 banheiros, 120 metros quadrados e custava R$110,000\n",
    "- O segundo apartamento tinha 6 quartos, 2 banheiro, 180 metros quadrados e custava RR135,000;\n",
    "- O terceiro apartamento tinha 2 quartos, 4 banheiros, 80 metros quadrados e custava R$75,000."
   ]
  },
  {
   "cell_type": "code",
   "execution_count": 18,
   "metadata": {},
   "outputs": [],
   "source": [
    "X = np.array([\n",
    "    [4, 4, 120],\n",
    "    [6, 2, 180],\n",
    "    [2, 4, 80]\n",
    "])\n",
    "\n",
    "y = np.array([\n",
    "    [110000],\n",
    "    [135000],\n",
    "    [75000]\n",
    "])"
   ]
  },
  {
   "cell_type": "code",
   "execution_count": 19,
   "metadata": {},
   "outputs": [
    {
     "name": "stdout",
     "output_type": "stream",
     "text": [
      "[[12500.]\n",
      " [ 7500.]\n",
      " [  250.]]\n"
     ]
    }
   ],
   "source": [
    "X_inv = np.linalg.inv(X)\n",
    "w = X_inv @ y\n",
    "print(w)"
   ]
  }
 ],
 "metadata": {
  "kernelspec": {
   "display_name": "Python 3",
   "language": "python",
   "name": "python3"
  },
  "language_info": {
   "codemirror_mode": {
    "name": "ipython",
    "version": 3
   },
   "file_extension": ".py",
   "mimetype": "text/x-python",
   "name": "python",
   "nbconvert_exporter": "python",
   "pygments_lexer": "ipython3",
   "version": "3.12.0"
  }
 },
 "nbformat": 4,
 "nbformat_minor": 2
}
